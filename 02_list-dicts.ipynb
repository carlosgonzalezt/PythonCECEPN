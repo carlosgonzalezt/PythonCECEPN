{
 "cells": [
  {
   "cell_type": "code",
   "execution_count": 1,
   "metadata": {},
   "outputs": [
    {
     "name": "stdout",
     "output_type": "stream",
     "text": [
      "['Brazil', 'Russia', 'India', 'China', 'South Africa']\n",
      "{'Brazil': 'Brasilia', 'Russia': 'Moscow', 'India': 'New Delhi', 'China': 'Beijing', 'South Africa': ['Pretoria', 'Cape Town', 'Bloemfontein']}\n",
      "Cape Town\n"
     ]
    },
    {
     "data": {
      "text/plain": [
       "'\\nWhy did you get an error for the 2nd capital of South Africa?\\nHint: Check the syntax for the index value.\\n'"
      ]
     },
     "execution_count": 1,
     "metadata": {},
     "output_type": "execute_result"
    }
   ],
   "source": [
    "# Create a list of the BRICS countries\n",
    "country = [ \n",
    "            \"Brazil\", \n",
    "            \"Russia\", \n",
    "            \"India\", \n",
    "            \"China\", \n",
    "            \"South Africa\"\n",
    "          ]\n",
    "\n",
    "\"\"\"Create a dictionary of BRICS capitals.\n",
    "Note that South Africa has 3 capitals. Therefore, we embed a list inside\n",
    "the dictionary.\n",
    "\"\"\"\n",
    "\n",
    "capitals = {\n",
    "    \"Brazil\": \"Brasilia\",\n",
    "    \"Russia\": \"Moscow\",\n",
    "    \"India\": \"New Delhi\",\n",
    "    \"China\": \"Beijing\",\n",
    "    \"South Africa\": [\n",
    "                        \"Pretoria\",\n",
    "                        \"Cape Town\",\n",
    "                        \"Bloemfontein\"\n",
    "                    ]\n",
    "           }\n",
    "\n",
    "# Print the list and dictionary\n",
    "print( country ) #impresión de una lista \n",
    "print( capitals ) #impresión de un diccionario\n",
    "\"\"\"\n",
    "What response did you get?\n",
    "Why did the list and dictionary contents not print?\n",
    "Fix the code and run the script again.\n",
    "\"\"\"\n",
    "\n",
    "print( capitals[\"South Africa\"][1] ) #impresción del valor de una lista dentro de un diccionario.\n",
    "\"\"\"\n",
    "Why did you get an error for the 2nd capital of South Africa?\n",
    "Hint: Check the syntax for the index value.\n",
    "\"\"\""
   ]
  },
  {
   "cell_type": "code",
   "execution_count": null,
   "metadata": {},
   "outputs": [],
   "source": []
  }
 ],
 "metadata": {
  "kernelspec": {
   "display_name": "Python 3",
   "language": "python",
   "name": "python3"
  },
  "language_info": {
   "codemirror_mode": {
    "name": "ipython",
    "version": 3
   },
   "file_extension": ".py",
   "mimetype": "text/x-python",
   "name": "python",
   "nbconvert_exporter": "python",
   "pygments_lexer": "ipython3",
   "version": "3.7.4"
  }
 },
 "nbformat": 4,
 "nbformat_minor": 2
}
