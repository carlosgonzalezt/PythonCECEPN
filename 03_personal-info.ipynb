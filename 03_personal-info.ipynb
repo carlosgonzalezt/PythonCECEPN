print("Hello tell  me your information")
fname=input("Name: ")
lname=input("Last name: ")
phone=input("Phone: ")
age=input("Age: ")
space=" "

print("Hi "+fname+space+lname+", nice to meet you!. I know your phone number is "+str(phone)+", and you're "+str(age)+" years old.")
